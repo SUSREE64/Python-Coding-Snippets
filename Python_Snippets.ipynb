{
  "nbformat": 4,
  "nbformat_minor": 0,
  "metadata": {
    "colab": {
      "name": "Python Snippets.ipynb",
      "provenance": [],
      "collapsed_sections": [],
      "authorship_tag": "ABX9TyNJZn9aLEydqaknWKWX8xcO",
      "include_colab_link": true
    },
    "kernelspec": {
      "name": "python3",
      "display_name": "Python 3"
    }
  },
  "cells": [
    {
      "cell_type": "markdown",
      "metadata": {
        "id": "view-in-github",
        "colab_type": "text"
      },
      "source": [
        "<a href=\"https://colab.research.google.com/github/SUSREE64/Python-Coding-Snippets/blob/master/Python_Snippets.ipynb\" target=\"_parent\"><img src=\"https://colab.research.google.com/assets/colab-badge.svg\" alt=\"Open In Colab\"/></a>"
      ]
    },
    {
      "cell_type": "markdown",
      "metadata": {
        "id": "kGE456eIG9zQ",
        "colab_type": "text"
      },
      "source": [
        ""
      ]
    },
    {
      "cell_type": "markdown",
      "metadata": {
        "id": "HmTvqCUzHCIR",
        "colab_type": "text"
      },
      "source": [
        "## This is a python coding snipptes reference work "
      ]
    },
    {
      "cell_type": "code",
      "metadata": {
        "id": "jTl49zj3HKsR",
        "colab_type": "code",
        "colab": {
          "base_uri": "https://localhost:8080/",
          "height": 34
        },
        "outputId": "3dc06349-8eb2-4175-8d2e-ffef406073bb"
      },
      "source": [
        "# Just to print  \"Hello World\"\n",
        "greeting = \"Hello World\"\n",
        "print(greeting)"
      ],
      "execution_count": null,
      "outputs": [
        {
          "output_type": "stream",
          "text": [
            "Hello World\n"
          ],
          "name": "stdout"
        }
      ]
    },
    {
      "cell_type": "code",
      "metadata": {
        "id": "nivv7UslHXby",
        "colab_type": "code",
        "colab": {
          "base_uri": "https://localhost:8080/",
          "height": 34
        },
        "outputId": "144c4aef-76ed-4eff-d333-b97ee4e4a4cc"
      },
      "source": [
        "# Another way of printing \n",
        "name = \"sree\"\n",
        "greeting = f\"Hello, {name}\"\n",
        "print(greeting)"
      ],
      "execution_count": null,
      "outputs": [
        {
          "output_type": "stream",
          "text": [
            "Hello, sree\n"
          ],
          "name": "stdout"
        }
      ]
    },
    {
      "cell_type": "code",
      "metadata": {
        "id": "1-wtzjMdHpR4",
        "colab_type": "code",
        "colab": {
          "base_uri": "https://localhost:8080/",
          "height": 134
        },
        "outputId": "c16b5556-e77b-4d64-ecc8-11d2b78e4ba4"
      },
      "source": [
        "# Simple arithmetic\n",
        "a = 10\n",
        "b = 20\n",
        "print(\"Sum\", a+b)\n",
        "print(\"difference\", abs(a-b))\n",
        "print( \"division a/b\", a/b)\n",
        "print(\"multiplication a*b\", a*b)\n",
        "print(\"Modulo operation of a, b\", a%b)\n",
        "print( \"Square of a\", a**2)\n",
        "print(\"Square root of a\", a**0.5)\n"
      ],
      "execution_count": null,
      "outputs": [
        {
          "output_type": "stream",
          "text": [
            "Sum 30\n",
            "difference 10\n",
            "division a/b 0.5\n",
            "multiplication a*b 200\n",
            "Modulo operation of a, b 10\n",
            "Square of a 100\n",
            "Square root of a 3.1622776601683795\n"
          ],
          "name": "stdout"
        }
      ]
    },
    {
      "cell_type": "code",
      "metadata": {
        "id": "4EIGMZbdH2_Y",
        "colab_type": "code",
        "colab": {
          "base_uri": "https://localhost:8080/",
          "height": 34
        },
        "outputId": "c194be06-6cd8-46ff-92e7-a219a7f3c8c1"
      },
      "source": [
        "# Another way of printing longer phrases with format function\n",
        "longer_phrase = \"Hello, {}. Greetings for the {}\"\n",
        "name = \"sree\"; event = \"Birthday\"\n",
        "formatted = longer_phrase.format(name, event)\n",
        "print(formatted)\n"
      ],
      "execution_count": null,
      "outputs": [
        {
          "output_type": "stream",
          "text": [
            "Hello, sree. Greetings for the Birthday\n"
          ],
          "name": "stdout"
        }
      ]
    },
    {
      "cell_type": "code",
      "metadata": {
        "id": "auj9soASJMkM",
        "colab_type": "code",
        "colab": {
          "base_uri": "https://localhost:8080/",
          "height": 67
        },
        "outputId": "a5b52a3d-d8b6-4cd0-cf11-c7693bcaaaa8"
      },
      "source": [
        "# Data types\n",
        "output = \"The varible is, {} is of  {} type\"\n",
        "value = 10\n",
        "print(output.format(value, type(value)))\n",
        "value = 2.3\n",
        "print(output.format(value, type(value)))\n",
        "value = \"sree\"\n",
        "print(output.format(value, type(value)))"
      ],
      "execution_count": null,
      "outputs": [
        {
          "output_type": "stream",
          "text": [
            "The varible is, 10 is of  <class 'int'> type\n",
            "The varible is, 2.3 is of  <class 'float'> type\n",
            "The varible is, sree is of  <class 'str'> type\n"
          ],
          "name": "stdout"
        }
      ]
    },
    {
      "cell_type": "markdown",
      "metadata": {
        "id": "Ur1hjXZtYUMa",
        "colab_type": "text"
      },
      "source": [
        "### Lists"
      ]
    },
    {
      "cell_type": "code",
      "metadata": {
        "id": "uYYnSttWYYIn",
        "colab_type": "code",
        "colab": {
          "base_uri": "https://localhost:8080/",
          "height": 101
        },
        "outputId": "3f03def6-ab0d-48c3-e6e5-90d5aa9ceaf1"
      },
      "source": [
        "# Lists are collection of dissimilar items\n",
        "lst = ['sree', 'gita', 'Jesus', 10, 30]\n",
        "print(\"List when printed looks like this\", lst)\n",
        "# You can add elements to lists\n",
        "lst.append(\"Added\")\n",
        "print('after adding element', lst)\n",
        "# you can remove an element from list\n",
        "lst.remove(10)\n",
        "print(\"After removing the elenent 10\", lst)\n",
        "# We can insert new elements in a list at an Index\n",
        "lst.insert(2, \"SecondIndex\")\n",
        "print(\"After inserting the element at 2nd Indix\", lst)\n",
        "# We can get the index of an element from a list\n",
        "# suppose we want to get the index of 'Jesus' element\n",
        "print(\"The index of element Jesus is \", lst.index(\"Jesus\"))"
      ],
      "execution_count": null,
      "outputs": [
        {
          "output_type": "stream",
          "text": [
            "List when printed looks like this ['sree', 'gita', 'Jesus', 10, 30]\n",
            "after adding element ['sree', 'gita', 'Jesus', 10, 30, 'Added']\n",
            "After removing the elenent 10 ['sree', 'gita', 'Jesus', 30, 'Added']\n",
            "After inserting the element at 2nd Indix ['sree', 'gita', 'SecondIndex', 'Jesus', 30, 'Added']\n",
            " the index of Jesus is  3\n"
          ],
          "name": "stdout"
        }
      ]
    },
    {
      "cell_type": "code",
      "metadata": {
        "id": "js4S_aZFZV53",
        "colab_type": "code",
        "colab": {
          "base_uri": "https://localhost:8080/",
          "height": 34
        },
        "outputId": "c30cb174-dc2c-4177-e31e-ee0ad2aea99a"
      },
      "source": [
        "# Sorting a numbers list\n",
        "numlst = [23, 43, 7, 8, 9, 10]\n",
        "numlst.sort()\n",
        "print(\"The sorted list is \", numlst)\n"
      ],
      "execution_count": null,
      "outputs": [
        {
          "output_type": "stream",
          "text": [
            "The sorted list is  [7, 8, 9, 10, 23, 43]\n"
          ],
          "name": "stdout"
        }
      ]
    },
    {
      "cell_type": "code",
      "metadata": {
        "id": "W72GorPta2ZR",
        "colab_type": "code",
        "colab": {
          "base_uri": "https://localhost:8080/",
          "height": 34
        },
        "outputId": "8f154376-398e-491c-a7fd-80ecb342827d"
      },
      "source": [
        "# Sorting with deceding order \n",
        "numlst = [2,3,56,1, 0, -10, 56]\n",
        "numlst.sort(reverse = True)\n",
        "print(\"Sorted list with decending order \", numlst)"
      ],
      "execution_count": null,
      "outputs": [
        {
          "output_type": "stream",
          "text": [
            "Sorted list with decending order  [56, 56, 3, 2, 1, 0, -10]\n"
          ],
          "name": "stdout"
        }
      ]
    },
    {
      "cell_type": "code",
      "metadata": {
        "id": "pr152_uXb1oY",
        "colab_type": "code",
        "colab": {
          "base_uri": "https://localhost:8080/",
          "height": 34
        },
        "outputId": "859180a4-7556-4c37-faf0-621b70c7e406"
      },
      "source": [
        "# Reversing a list \n",
        "numlst = [2,3,10, 'sree', 'hello']\n",
        "numlst.reverse()\n",
        "print(\"Reversed list is \", numlst)"
      ],
      "execution_count": null,
      "outputs": [
        {
          "output_type": "stream",
          "text": [
            "Reversed list is  ['hello', 'sree', 10, 3, 2]\n"
          ],
          "name": "stdout"
        }
      ]
    },
    {
      "cell_type": "code",
      "metadata": {
        "id": "HF0nlVFC_go3",
        "colab_type": "code",
        "colab": {
          "base_uri": "https://localhost:8080/",
          "height": 84
        },
        "outputId": "b3f3a6ad-394d-4d22-c17e-d9ea82e6e140"
      },
      "source": [
        "## List indexing \n",
        "lst = [1,2,3,5,8,10, 32]\n",
        "print(\"From index 2, to 3 list elements \", lst[2:4])\n",
        "print(\" Last element of the list is\", lst[-1])\n",
        "print(\" last to start (reverse) \", lst[::-1])\n",
        "print(\"From idex 2 to all rest\", lst[2:])"
      ],
      "execution_count": null,
      "outputs": [
        {
          "output_type": "stream",
          "text": [
            "From index 2, to 3 list elements  [3, 5]\n",
            " Last element of the list is 32\n",
            " last to start (reverse)  [32, 10, 8, 5, 3, 2, 1]\n",
            "From idex 2 to all rest [3, 5, 8, 10, 32]\n"
          ],
          "name": "stdout"
        }
      ]
    },
    {
      "cell_type": "code",
      "metadata": {
        "id": "oslkfLShA4Hh",
        "colab_type": "code",
        "colab": {
          "base_uri": "https://localhost:8080/",
          "height": 168
        },
        "outputId": "4c295a06-eaae-435f-e17e-fdbc81569ce3"
      },
      "source": [
        "# addressing element by element \n",
        "lst = [2,3,4,4,5,6,89, 90, 32]\n",
        "for item in lst:\n",
        "  print(\"item is \", item)"
      ],
      "execution_count": null,
      "outputs": [
        {
          "output_type": "stream",
          "text": [
            "item is  2\n",
            "item is  3\n",
            "item is  4\n",
            "item is  4\n",
            "item is  5\n",
            "item is  6\n",
            "item is  89\n",
            "item is  90\n",
            "item is  32\n"
          ],
          "name": "stdout"
        }
      ]
    },
    {
      "cell_type": "code",
      "metadata": {
        "id": "nc7J3qfOBS5X",
        "colab_type": "code",
        "colab": {
          "base_uri": "https://localhost:8080/",
          "height": 34
        },
        "outputId": "df6fce71-949e-434f-b830-99c490fd074f"
      },
      "source": [
        "# count of an element in a list\n",
        "lst = [1,2,3,2,2,2,5,6,7,10]\n",
        "print(\"The count of 2 in list\",lst.count(2))"
      ],
      "execution_count": null,
      "outputs": [
        {
          "output_type": "stream",
          "text": [
            "The count of 2 in list 4\n"
          ],
          "name": "stdout"
        }
      ]
    },
    {
      "cell_type": "code",
      "metadata": {
        "id": "BAVTfqqTCUao",
        "colab_type": "code",
        "colab": {
          "base_uri": "https://localhost:8080/",
          "height": 50
        },
        "outputId": "e8d9f610-070c-4447-c393-f9920f0d4512"
      },
      "source": [
        "# Removing an element at a index \n",
        "lst = ['sr', 'jr', 'hi', 1, 2]\n",
        "print(\"Remove the item at index 2 \", lst.pop(2))\n",
        "print(\"After removing the items at 2 \",lst)"
      ],
      "execution_count": null,
      "outputs": [
        {
          "output_type": "stream",
          "text": [
            "Remove the item at index 2  hi\n",
            "After removing the items at 2  ['sr', 'jr', 1, 2]\n"
          ],
          "name": "stdout"
        }
      ]
    },
    {
      "cell_type": "code",
      "metadata": {
        "id": "XrS7H_ZAD4p_",
        "colab_type": "code",
        "colab": {
          "base_uri": "https://localhost:8080/",
          "height": 34
        },
        "outputId": "66ed61a8-5624-431d-b945-867bf6d3f895"
      },
      "source": [
        "# Extending the lists \n",
        "list1 = [1,2,3,4,5,6,7]\n",
        "list2 = [34,5,6,7]\n",
        "list1.extend(list2)\n",
        "print(\"Extended list ,\", list1)\n"
      ],
      "execution_count": null,
      "outputs": [
        {
          "output_type": "stream",
          "text": [
            "Extended list , [1, 2, 3, 4, 5, 6, 7, 34, 5, 6, 7]\n"
          ],
          "name": "stdout"
        }
      ]
    },
    {
      "cell_type": "code",
      "metadata": {
        "id": "neRtWHzkDGgH",
        "colab_type": "code",
        "colab": {
          "base_uri": "https://localhost:8080/",
          "height": 67
        },
        "outputId": "2acd223b-ab56-4369-e693-b2795e4c9db0"
      },
      "source": [
        "# list shallow copying \n",
        "lst = ['a', 'b', 'c','d']\n",
        "lstcopy = lst\n",
        "print(\"Copied list\", lstcopy)\n",
        "# if we change the lst by adding any element, lstcopy also changes as this is a shallow copy\n",
        "lst.append('m')\n",
        "print(\"Original list\", lst)\n",
        "print(\"shallow copy\", lstcopy)"
      ],
      "execution_count": null,
      "outputs": [
        {
          "output_type": "stream",
          "text": [
            "Copied list ['a', 'b', 'c', 'd']\n",
            "Original list ['a', 'b', 'c', 'd', 'm']\n",
            "shallow copy ['a', 'b', 'c', 'd', 'm']\n"
          ],
          "name": "stdout"
        }
      ]
    },
    {
      "cell_type": "code",
      "metadata": {
        "id": "TBO-tplxGbQv",
        "colab_type": "code",
        "colab": {
          "base_uri": "https://localhost:8080/",
          "height": 50
        },
        "outputId": "47f8dde6-fc9f-4fec-9793-f1e0601ea9e8"
      },
      "source": [
        "# Deep copy of the list\n",
        "lst = [1,1,2,3,3,3,5]\n",
        "lstDeepcopy = list.copy(lst)\n",
        "# now change the lst\n",
        "lst.append(\"new\")\n",
        "print(\"Original list \", lst)\n",
        "print(\"Deep copy \", lstDeepcopy)"
      ],
      "execution_count": null,
      "outputs": [
        {
          "output_type": "stream",
          "text": [
            "Original list  [1, 1, 2, 3, 3, 3, 5, 'new']\n",
            "Deep copy  [1, 1, 2, 3, 3, 3, 5]\n"
          ],
          "name": "stdout"
        }
      ]
    },
    {
      "cell_type": "markdown",
      "metadata": {
        "id": "DPNq061JezFr",
        "colab_type": "text"
      },
      "source": [
        "## Sets"
      ]
    },
    {
      "cell_type": "code",
      "metadata": {
        "id": "CVCFTRtLe1sG",
        "colab_type": "code",
        "colab": {
          "base_uri": "https://localhost:8080/",
          "height": 34
        },
        "outputId": "15735833-07f3-4ac2-f714-b546f5fdd884"
      },
      "source": [
        "# a set is a collection of dissimilar elements.\n",
        "# a set can not have duplicate elements\n",
        "# a set is denoted by {} curly brackets\n",
        "set1 = {1,2,3,'1', '2', 3}\n",
        "print(set1)"
      ],
      "execution_count": null,
      "outputs": [
        {
          "output_type": "stream",
          "text": [
            "{1, 2, 3, '2', '1'}\n"
          ],
          "name": "stdout"
        }
      ]
    },
    {
      "cell_type": "code",
      "metadata": {
        "id": "oDSyQx2dfPoP",
        "colab_type": "code",
        "colab": {}
      },
      "source": [
        "# You can see tha eventhough we initialized 3 two times, the result has only one 3"
      ],
      "execution_count": null,
      "outputs": []
    },
    {
      "cell_type": "code",
      "metadata": {
        "id": "VQXLKo24fhCm",
        "colab_type": "code",
        "colab": {}
      },
      "source": [
        ""
      ],
      "execution_count": null,
      "outputs": []
    },
    {
      "cell_type": "markdown",
      "metadata": {
        "id": "YRxFVrqRflU3",
        "colab_type": "text"
      },
      "source": [
        "### Set Operations "
      ]
    },
    {
      "cell_type": "code",
      "metadata": {
        "id": "BdAJrgD2foBF",
        "colab_type": "code",
        "colab": {
          "base_uri": "https://localhost:8080/",
          "height": 50
        },
        "outputId": "1c59c209-87a7-4089-e3cd-7989ea3e6e1b"
      },
      "source": [
        "set1 = {1,2,3,6,7}\n",
        "set2 = {1,2,3,10, 11, 12}\n",
        "# Adding an element to set1\n",
        "set1.add(\"Newly added\")\n",
        "print(\"After adding an element. \", set1)\n",
        "# Removing an element from a set1\n",
        "set1.remove(2)\n",
        "print(\"After Removing the element 2\", set1)"
      ],
      "execution_count": null,
      "outputs": [
        {
          "output_type": "stream",
          "text": [
            "After adding an element.  {1, 2, 3, 6, 7, 'Newly added'}\n",
            "After Removing the element 2 {1, 3, 6, 7, 'Newly added'}\n"
          ],
          "name": "stdout"
        }
      ]
    },
    {
      "cell_type": "code",
      "metadata": {
        "id": "84BGJwBSEFI3",
        "colab_type": "code",
        "colab": {
          "base_uri": "https://localhost:8080/",
          "height": 34
        },
        "outputId": "69fcbefa-bb17-436a-a16d-f4510c11b121"
      },
      "source": [
        ""
      ],
      "execution_count": null,
      "outputs": [
        {
          "output_type": "stream",
          "text": [
            "3.6.9\n"
          ],
          "name": "stdout"
        }
      ]
    },
    {
      "cell_type": "code",
      "metadata": {
        "id": "WvjFhQeGElAW",
        "colab_type": "code",
        "colab": {}
      },
      "source": [
        ""
      ],
      "execution_count": null,
      "outputs": []
    }
  ]
}